{
 "cells": [
  {
   "cell_type": "code",
   "execution_count": null,
   "metadata": {},
   "outputs": [],
   "source": [
    "import numpy as np\n",
    "import matplotlib.pyplot as plt\n",
    "N=14734014 # total population for normalizing the graphs\n",
    "b=8.534e-9 # this beta seems to work reasonably well\n",
    "a=0.0869 # same reason as b\n",
    "n=150000 # vaccinated individuals per day\n",
    "dt=0.001 # time scale between euler steps\n",
    "t=np.arange(0,730,dt) # time vector for plotting\n",
    "I=np.zeros((len(t))) # empty vector for storing values\n",
    "S=np.zeros((len(t))) # same as above\n",
    "R=np.zeros((len(t))) # same as above\n",
    "cumul_I=np.zeros((len(t)))\n",
    "cumul_R=np.zeros((len(t)))\n",
    "S[0]=14353330 # initial conditions from April 1st 2020\n",
    "I[0]=20875 #\n",
    "R[0]=359809 #\n",
    "print(np.size(I))\n",
    "print(np.size(S))\n",
    "print(np.size(R))\n",
    "for x in range(1,len(t)): # for loop doing euler method of solving the System\n",
    "S[x]=dt*(-b*S[x-1]*I[x-1]-0.95*0.0007*S[x-1])+S[x-1] # euler step solutions\n",
    "I[x]=dt*(b*S[x-1]*I[x-1]-a*I[x-1])+I[x-1]\n",
    "R[x]=dt*(a*I[x-1]+0.95*0.0007*S[x-1])+R[x-1]\n",
    "if S[x]<0: # checks to see if susceptible goes negative\n",
    "S=[0]\n",
    "if I[x]<0.5: # checks to see if no infected are left\n",
    "I[x]=0 # If there are then the simulation ends\n",
    "S=S[:x]\n",
    "I=I[:x]\n",
    "R=R[:x]\n",
    "t=t[:x]\n",
    "print('Pandemic has ended')\n",
    "print(x)\n",
    "break\n",
    "plt.plot(t,S,'r',label='Susceptible') # all plots overlaid\n",
    "plt.plot(t,I,'b',label='Infected')\n",
    "plt.plot(t,R,'g',label='Removed')\n",
    "plt.xlabel('time in days')\n",
    "plt.ylabel('Population')\n",
    "plt.title('SIR model for Onatrio starting from April 1st')\n",
    "plt.legend()\n",
    "plt.plot(S,I) #NOTE separate the blocks of code to produce graphs\n",
    "plt.xlabel('S(t)')\n",
    "plt.ylabel('I(t)')\n",
    "plt.title('Phase plot for the SIR model')\n"
   ]
  }
 ],
 "metadata": {
  "kernelspec": {
   "display_name": "Python 3",
   "language": "python",
   "name": "python3"
  },
  "language_info": {
   "codemirror_mode": {
    "name": "ipython",
    "version": 3
   },
   "file_extension": ".py",
   "mimetype": "text/x-python",
   "name": "python",
   "nbconvert_exporter": "python",
   "pygments_lexer": "ipython3",
   "version": "3.7.4"
  }
 },
 "nbformat": 4,
 "nbformat_minor": 2
}
